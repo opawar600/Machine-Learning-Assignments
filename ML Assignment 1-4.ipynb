{
 "cells": [
  {
   "cell_type": "markdown",
   "metadata": {},
   "source": [
    "# ML Assignment 01 : Histograms, Boxplots, kNN"
   ]
  },
  {
   "cell_type": "code",
   "execution_count": 94,
   "metadata": {
    "_cell_guid": "bab90b64-d3bf-47cd-bc1e-1b918a9765b7",
    "_uuid": "a937e0f7-7d91-4fc4-9d69-566c28da1e43"
   },
   "outputs": [
    {
     "name": "stdout",
     "output_type": "stream",
     "text": [
      "/kaggle/input/normal/NormalSample.csv\n",
      "/kaggle/input/fraudknn/Fraud.csv\n"
     ]
    }
   ],
   "source": [
    "\n",
    "import numpy as np # linear algebra\n",
    "import pandas as pd # data processing, CSV file I/O (e.g. pd.read_csv)\n",
    "\n",
    "import matplotlib.pyplot as plt\n",
    "\n",
    "import os\n",
    "for dirname, _, filenames in os.walk('/kaggle/input'):\n",
    "    for filename in filenames:\n",
    "        print(os.path.join(dirname, filename))\n",
    "\n",
    "        import math\n",
    "from numpy import linalg as LA"
   ]
  },
  {
   "cell_type": "markdown",
   "metadata": {},
   "source": [
    "### Write a Python program to calculate the density estimator of a histogram.  Use the field x in the NormalSample.csv file. "
   ]
  },
  {
   "cell_type": "code",
   "execution_count": 95,
   "metadata": {
    "_cell_guid": "63e9ca23-3bca-4e61-9ea5-8d12e3dc2c6a",
    "_uuid": "a7e906d0-df50-4a57-886c-2e1298c714ac"
   },
   "outputs": [
    {
     "data": {
      "text/html": [
       "<div>\n",
       "<style scoped>\n",
       "    .dataframe tbody tr th:only-of-type {\n",
       "        vertical-align: middle;\n",
       "    }\n",
       "\n",
       "    .dataframe tbody tr th {\n",
       "        vertical-align: top;\n",
       "    }\n",
       "\n",
       "    .dataframe thead th {\n",
       "        text-align: right;\n",
       "    }\n",
       "</style>\n",
       "<table border=\"1\" class=\"dataframe\">\n",
       "  <thead>\n",
       "    <tr style=\"text-align: right;\">\n",
       "      <th></th>\n",
       "      <th>i</th>\n",
       "      <th>group</th>\n",
       "      <th>x</th>\n",
       "    </tr>\n",
       "  </thead>\n",
       "  <tbody>\n",
       "    <tr>\n",
       "      <th>0</th>\n",
       "      <td>0</td>\n",
       "      <td>1</td>\n",
       "      <td>29.8</td>\n",
       "    </tr>\n",
       "    <tr>\n",
       "      <th>1</th>\n",
       "      <td>1</td>\n",
       "      <td>1</td>\n",
       "      <td>33.3</td>\n",
       "    </tr>\n",
       "    <tr>\n",
       "      <th>2</th>\n",
       "      <td>2</td>\n",
       "      <td>0</td>\n",
       "      <td>30.9</td>\n",
       "    </tr>\n",
       "    <tr>\n",
       "      <th>3</th>\n",
       "      <td>3</td>\n",
       "      <td>1</td>\n",
       "      <td>32.2</td>\n",
       "    </tr>\n",
       "    <tr>\n",
       "      <th>4</th>\n",
       "      <td>4</td>\n",
       "      <td>0</td>\n",
       "      <td>31.1</td>\n",
       "    </tr>\n",
       "    <tr>\n",
       "      <th>5</th>\n",
       "      <td>5</td>\n",
       "      <td>0</td>\n",
       "      <td>29.3</td>\n",
       "    </tr>\n",
       "    <tr>\n",
       "      <th>6</th>\n",
       "      <td>6</td>\n",
       "      <td>1</td>\n",
       "      <td>31.5</td>\n",
       "    </tr>\n",
       "    <tr>\n",
       "      <th>7</th>\n",
       "      <td>7</td>\n",
       "      <td>1</td>\n",
       "      <td>31.7</td>\n",
       "    </tr>\n",
       "    <tr>\n",
       "      <th>8</th>\n",
       "      <td>8</td>\n",
       "      <td>1</td>\n",
       "      <td>31.4</td>\n",
       "    </tr>\n",
       "    <tr>\n",
       "      <th>9</th>\n",
       "      <td>9</td>\n",
       "      <td>1</td>\n",
       "      <td>31.4</td>\n",
       "    </tr>\n",
       "  </tbody>\n",
       "</table>\n",
       "</div>"
      ],
      "text/plain": [
       "   i  group     x\n",
       "0  0      1  29.8\n",
       "1  1      1  33.3\n",
       "2  2      0  30.9\n",
       "3  3      1  32.2\n",
       "4  4      0  31.1\n",
       "5  5      0  29.3\n",
       "6  6      1  31.5\n",
       "7  7      1  31.7\n",
       "8  8      1  31.4\n",
       "9  9      1  31.4"
      ]
     },
     "execution_count": 95,
     "metadata": {},
     "output_type": "execute_result"
    }
   ],
   "source": [
    "df = pd.read_csv(\"/kaggle/input/normal/NormalSample.csv\")\n",
    "df.head(10)"
   ]
  },
  {
   "cell_type": "code",
   "execution_count": 96,
   "metadata": {
    "_cell_guid": "c3ffcbc8-ede5-4587-a737-0e0e889a7521",
    "_uuid": "d5f1e222-7c20-415c-85ec-5ba64e5affea"
   },
   "outputs": [
    {
     "data": {
      "text/html": [
       "<div>\n",
       "<style scoped>\n",
       "    .dataframe tbody tr th:only-of-type {\n",
       "        vertical-align: middle;\n",
       "    }\n",
       "\n",
       "    .dataframe tbody tr th {\n",
       "        vertical-align: top;\n",
       "    }\n",
       "\n",
       "    .dataframe thead th {\n",
       "        text-align: right;\n",
       "    }\n",
       "</style>\n",
       "<table border=\"1\" class=\"dataframe\">\n",
       "  <thead>\n",
       "    <tr style=\"text-align: right;\">\n",
       "      <th></th>\n",
       "      <th>i</th>\n",
       "      <th>group</th>\n",
       "      <th>x</th>\n",
       "    </tr>\n",
       "  </thead>\n",
       "  <tbody>\n",
       "    <tr>\n",
       "      <th>count</th>\n",
       "      <td>1001.000000</td>\n",
       "      <td>1001.000000</td>\n",
       "      <td>1001.000000</td>\n",
       "    </tr>\n",
       "    <tr>\n",
       "      <th>mean</th>\n",
       "      <td>500.000000</td>\n",
       "      <td>0.685315</td>\n",
       "      <td>31.414585</td>\n",
       "    </tr>\n",
       "    <tr>\n",
       "      <th>std</th>\n",
       "      <td>289.108111</td>\n",
       "      <td>0.464623</td>\n",
       "      <td>1.397672</td>\n",
       "    </tr>\n",
       "    <tr>\n",
       "      <th>min</th>\n",
       "      <td>0.000000</td>\n",
       "      <td>0.000000</td>\n",
       "      <td>26.300000</td>\n",
       "    </tr>\n",
       "    <tr>\n",
       "      <th>25%</th>\n",
       "      <td>250.000000</td>\n",
       "      <td>0.000000</td>\n",
       "      <td>30.400000</td>\n",
       "    </tr>\n",
       "    <tr>\n",
       "      <th>50%</th>\n",
       "      <td>500.000000</td>\n",
       "      <td>1.000000</td>\n",
       "      <td>31.500000</td>\n",
       "    </tr>\n",
       "    <tr>\n",
       "      <th>75%</th>\n",
       "      <td>750.000000</td>\n",
       "      <td>1.000000</td>\n",
       "      <td>32.400000</td>\n",
       "    </tr>\n",
       "    <tr>\n",
       "      <th>max</th>\n",
       "      <td>1000.000000</td>\n",
       "      <td>1.000000</td>\n",
       "      <td>35.400000</td>\n",
       "    </tr>\n",
       "  </tbody>\n",
       "</table>\n",
       "</div>"
      ],
      "text/plain": [
       "                 i        group            x\n",
       "count  1001.000000  1001.000000  1001.000000\n",
       "mean    500.000000     0.685315    31.414585\n",
       "std     289.108111     0.464623     1.397672\n",
       "min       0.000000     0.000000    26.300000\n",
       "25%     250.000000     0.000000    30.400000\n",
       "50%     500.000000     1.000000    31.500000\n",
       "75%     750.000000     1.000000    32.400000\n",
       "max    1000.000000     1.000000    35.400000"
      ]
     },
     "execution_count": 96,
     "metadata": {},
     "output_type": "execute_result"
    }
   ],
   "source": [
    "#max value of x\n",
    "df.describe()"
   ]
  },
  {
   "cell_type": "markdown",
   "metadata": {},
   "source": [
    "### According to Izenman (1991) method, what is the recommended bin-width for the histogram of x? "
   ]
  },
  {
   "cell_type": "code",
   "execution_count": 97,
   "metadata": {},
   "outputs": [
    {
     "name": "stdout",
     "output_type": "stream",
     "text": [
      "0.3998667554864774\n"
     ]
    }
   ],
   "source": [
    "from scipy.stats import iqr\n",
    "inter_quartile_range = iqr(df.x)\n",
    "N = df.x.count()\n",
    "bin_width = 2*inter_quartile_range*(pow(N,-1/3)) #bin width = 2(IQR)N^(-1/3)\n",
    "print(bin_width)"
   ]
  },
  {
   "cell_type": "markdown",
   "metadata": {},
   "source": [
    "### What are the minimum and the maximum values of the field x? "
   ]
  },
  {
   "cell_type": "code",
   "execution_count": 98,
   "metadata": {},
   "outputs": [
    {
     "name": "stdout",
     "output_type": "stream",
     "text": [
      "Minimum =  26.3 \n",
      "Maximum =  35.4\n"
     ]
    }
   ],
   "source": [
    "n = len(df.x)\n",
    "min_x = df.x.min()\n",
    "max_x = df.x.max()\n",
    "print(\"Minimum = \",min_x,\"\\nMaximum = \",max_x)"
   ]
  },
  {
   "cell_type": "markdown",
   "metadata": {},
   "source": [
    "### Use h = 2, minimum = a and maximum = b. List the coordinates of the density estimator.  Paste the histogram drawn using Python or your favorite graphing tools. "
   ]
  },
  {
   "cell_type": "code",
   "execution_count": 99,
   "metadata": {},
   "outputs": [],
   "source": [
    "#y = [0.4, 0.6, 0.7, 1.9, 2.4, 6.1, 6.2,7.3]\n",
    "def get_midpoints(dfx,binw):\n",
    "    x = dfx\n",
    "\n",
    "\n",
    "    mini = math.floor(x.min())\n",
    "    maxi = math.ceil(x.max())\n",
    "    \n",
    "\n",
    "    binw = binw     #Bin width\n",
    "\n",
    "    midpoints = mini+binw/2\n",
    "\n",
    "    no_of_bins = int((maxi-mini)/binw)\n",
    "    print(\"Number of bins =\",no_of_bins)\n",
    "    start = mini+binw/2\n",
    "    midps = [start]\n",
    "\n",
    "    for i in range(0,no_of_bins-1):\n",
    "        m = start+binw\n",
    "        start = m\n",
    "        midps.append(m)\n",
    "\n",
    "    middf = pd.DataFrame(midps,columns = {\"mi\"}) #We get 100 midpoints and store it in a datframe\n",
    "    return middf    #Midpoints"
   ]
  },
  {
   "cell_type": "code",
   "execution_count": 100,
   "metadata": {},
   "outputs": [],
   "source": [
    "def density_estimate(midpoint):\n",
    "    m1 = midpoint\n",
    "    density = 0\n",
    "    for i in df.x:\n",
    "        u = (i-m1)/binw\n",
    "        if (u>-0.5 and u<=0.5):\n",
    "            density+=1\n",
    "    return density/(n*binw)"
   ]
  },
  {
   "cell_type": "code",
   "execution_count": 101,
   "metadata": {},
   "outputs": [],
   "source": [
    "def answer(df,binwidth):\n",
    "    x = df.x\n",
    "    binw = binwidth\n",
    "    middf = get_midpoints(df.x,binw)\n",
    "    lis = []\n",
    "    for m in middf.mi:\n",
    "        lis.append(density_estimate(m))\n",
    "\n",
    "    middf[\"p(mi)\"] = np.array(lis)\n",
    "    #plt.step(middf.mi,middf[\"p(mi)\"])\n",
    "    return middf"
   ]
  },
  {
   "cell_type": "markdown",
   "metadata": {},
   "source": [
    "### Use h = 2, minimum = a and maximum = b. List the coordinates of the density estimator.  Paste the histogram drawn using Python or your favorite graphing tools. "
   ]
  },
  {
   "cell_type": "code",
   "execution_count": 102,
   "metadata": {},
   "outputs": [
    {
     "name": "stdout",
     "output_type": "stream",
     "text": [
      "Number of bins = 5\n"
     ]
    },
    {
     "data": {
      "text/html": [
       "<div>\n",
       "<style scoped>\n",
       "    .dataframe tbody tr th:only-of-type {\n",
       "        vertical-align: middle;\n",
       "    }\n",
       "\n",
       "    .dataframe tbody tr th {\n",
       "        vertical-align: top;\n",
       "    }\n",
       "\n",
       "    .dataframe thead th {\n",
       "        text-align: right;\n",
       "    }\n",
       "</style>\n",
       "<table border=\"1\" class=\"dataframe\">\n",
       "  <thead>\n",
       "    <tr style=\"text-align: right;\">\n",
       "      <th></th>\n",
       "      <th>mi</th>\n",
       "      <th>p(mi)</th>\n",
       "    </tr>\n",
       "  </thead>\n",
       "  <tbody>\n",
       "    <tr>\n",
       "      <th>0</th>\n",
       "      <td>27.0</td>\n",
       "      <td>0.003996</td>\n",
       "    </tr>\n",
       "    <tr>\n",
       "      <th>1</th>\n",
       "      <td>29.0</td>\n",
       "      <td>0.084416</td>\n",
       "    </tr>\n",
       "    <tr>\n",
       "      <th>2</th>\n",
       "      <td>31.0</td>\n",
       "      <td>0.237263</td>\n",
       "    </tr>\n",
       "    <tr>\n",
       "      <th>3</th>\n",
       "      <td>33.0</td>\n",
       "      <td>0.163337</td>\n",
       "    </tr>\n",
       "    <tr>\n",
       "      <th>4</th>\n",
       "      <td>35.0</td>\n",
       "      <td>0.010989</td>\n",
       "    </tr>\n",
       "  </tbody>\n",
       "</table>\n",
       "</div>"
      ],
      "text/plain": [
       "     mi     p(mi)\n",
       "0  27.0  0.003996\n",
       "1  29.0  0.084416\n",
       "2  31.0  0.237263\n",
       "3  33.0  0.163337\n",
       "4  35.0  0.010989"
      ]
     },
     "execution_count": 102,
     "metadata": {},
     "output_type": "execute_result"
    },
    {
     "data": {
      "image/png": "[encoded data removed]",
      "text/plain": [
       "<Figure size 432x288 with 1 Axes>"
      ]
     },
     "metadata": {
      "needs_background": "light"
     },
     "output_type": "display_data"
    }
   ],
   "source": [
    "binw = 2\n",
    "ans_df2 = answer(df,binw)\n",
    "\n",
    "plt.hist(x=df.x,range=(26,36), bins = 5,color = \"dimgray\") # h = 2\n",
    "plt.title(\"Bin Width = 2\")\n",
    "plt.grid(axis='y', alpha=0.2)\n",
    "plt.savefig(\"h2.png\")\n",
    "ans_df2"
   ]
  },
  {
   "cell_type": "markdown",
   "metadata": {},
   "source": [
    "### Use h = 1, minimum = a and maximum = b. List the coordinates of the density estimator.  Paste the histogram drawn using Python or your favorite graphing tools. "
   ]
  },
  {
   "cell_type": "code",
   "execution_count": 103,
   "metadata": {},
   "outputs": [
    {
     "name": "stdout",
     "output_type": "stream",
     "text": [
      "Number of bins = 10\n",
      "     mi     p(mi)\n",
      "0  26.5  0.000999\n",
      "1  27.5  0.006993\n",
      "2  28.5  0.041958\n",
      "3  29.5  0.126873\n",
      "4  30.5  0.206793\n",
      "5  31.5  0.267732\n",
      "6  32.5  0.237762\n",
      "7  33.5  0.088911\n",
      "8  34.5  0.019980\n",
      "9  35.5  0.001998\n"
     ]
    },
    {
     "data": {
      "text/html": [
       "<div>\n",
       "<style scoped>\n",
       "    .dataframe tbody tr th:only-of-type {\n",
       "        vertical-align: middle;\n",
       "    }\n",
       "\n",
       "    .dataframe tbody tr th {\n",
       "        vertical-align: top;\n",
       "    }\n",
       "\n",
       "    .dataframe thead th {\n",
       "        text-align: right;\n",
       "    }\n",
       "</style>\n",
       "<table border=\"1\" class=\"dataframe\">\n",
       "  <thead>\n",
       "    <tr style=\"text-align: right;\">\n",
       "      <th></th>\n",
       "      <th>mi</th>\n",
       "      <th>p(mi)</th>\n",
       "    </tr>\n",
       "  </thead>\n",
       "  <tbody>\n",
       "    <tr>\n",
       "      <th>0</th>\n",
       "      <td>26.5</td>\n",
       "      <td>0.000999</td>\n",
       "    </tr>\n",
       "    <tr>\n",
       "      <th>1</th>\n",
       "      <td>27.5</td>\n",
       "      <td>0.006993</td>\n",
       "    </tr>\n",
       "    <tr>\n",
       "      <th>2</th>\n",
       "      <td>28.5</td>\n",
       "      <td>0.041958</td>\n",
       "    </tr>\n",
       "    <tr>\n",
       "      <th>3</th>\n",
       "      <td>29.5</td>\n",
       "      <td>0.126873</td>\n",
       "    </tr>\n",
       "    <tr>\n",
       "      <th>4</th>\n",
       "      <td>30.5</td>\n",
       "      <td>0.206793</td>\n",
       "    </tr>\n",
       "    <tr>\n",
       "      <th>5</th>\n",
       "      <td>31.5</td>\n",
       "      <td>0.267732</td>\n",
       "    </tr>\n",
       "    <tr>\n",
       "      <th>6</th>\n",
       "      <td>32.5</td>\n",
       "      <td>0.237762</td>\n",
       "    </tr>\n",
       "    <tr>\n",
       "      <th>7</th>\n",
       "      <td>33.5</td>\n",
       "      <td>0.088911</td>\n",
       "    </tr>\n",
       "    <tr>\n",
       "      <th>8</th>\n",
       "      <td>34.5</td>\n",
       "      <td>0.019980</td>\n",
       "    </tr>\n",
       "    <tr>\n",
       "      <th>9</th>\n",
       "      <td>35.5</td>\n",
       "      <td>0.001998</td>\n",
       "    </tr>\n",
       "  </tbody>\n",
       "</table>\n",
       "</div>"
      ],
      "text/plain": [
       "     mi     p(mi)\n",
       "0  26.5  0.000999\n",
       "1  27.5  0.006993\n",
       "2  28.5  0.041958\n",
       "3  29.5  0.126873\n",
       "4  30.5  0.206793\n",
       "5  31.5  0.267732\n",
       "6  32.5  0.237762\n",
       "7  33.5  0.088911\n",
       "8  34.5  0.019980\n",
       "9  35.5  0.001998"
      ]
     },
     "execution_count": 103,
     "metadata": {},
     "output_type": "execute_result"
    },
    {
     "data": {
      "image/png": "[encoded data removed]",
      "text/plain": [
       "<Figure size 432x288 with 1 Axes>"
      ]
     },
     "metadata": {
      "needs_background": "light"
     },
     "output_type": "display_data"
    }
   ],
   "source": [
    "binw = 1\n",
    "ans_df1 = answer(df,binw)\n",
    "print(ans_df1)\n",
    "plt.hist(x=df.x,range=(26,36), bins = 10,color = \"dimgray\") # h = 1\n",
    "plt.title(\"Bin Width = 1\")\n",
    "plt.grid(axis='y', alpha=0.2)\n",
    "plt.savefig(\"h1.png\")\n",
    "ans_df1"
   ]
  },
  {
   "cell_type": "markdown",
   "metadata": {},
   "source": [
    "### Use h = 0.5, minimum = a and maximum = b. List the coordinates of the density estimator.  Paste the histogram drawn using Python or your favorite graphing tools. "
   ]
  },
  {
   "cell_type": "code",
   "execution_count": 104,
   "metadata": {},
   "outputs": [
    {
     "name": "stdout",
     "output_type": "stream",
     "text": [
      "Number of bins = 20\n",
      "Co-ordinates of density \n",
      "        mi     p(mi)\n",
      "0   26.25  0.001998\n",
      "1   26.75  0.000000\n",
      "2   27.25  0.001998\n",
      "3   27.75  0.011988\n",
      "4   28.25  0.029970\n",
      "5   28.75  0.053946\n",
      "6   29.25  0.103896\n",
      "7   29.75  0.149850\n",
      "8   30.25  0.207792\n",
      "9   30.75  0.205794\n",
      "10  31.25  0.253746\n",
      "11  31.75  0.281718\n",
      "12  32.25  0.255744\n",
      "13  32.75  0.219780\n",
      "14  33.25  0.119880\n",
      "15  33.75  0.057942\n",
      "16  34.25  0.029970\n",
      "17  34.75  0.009990\n",
      "18  35.25  0.003996\n",
      "19  35.75  0.000000\n"
     ]
    },
    {
     "data": {
      "text/html": [
       "<div>\n",
       "<style scoped>\n",
       "    .dataframe tbody tr th:only-of-type {\n",
       "        vertical-align: middle;\n",
       "    }\n",
       "\n",
       "    .dataframe tbody tr th {\n",
       "        vertical-align: top;\n",
       "    }\n",
       "\n",
       "    .dataframe thead th {\n",
       "        text-align: right;\n",
       "    }\n",
       "</style>\n",
       "<table border=\"1\" class=\"dataframe\">\n",
       "  <thead>\n",
       "    <tr style=\"text-align: right;\">\n",
       "      <th></th>\n",
       "      <th>mi</th>\n",
       "      <th>p(mi)</th>\n",
       "    </tr>\n",
       "  </thead>\n",
       "  <tbody>\n",
       "    <tr>\n",
       "      <th>0</th>\n",
       "      <td>26.25</td>\n",
       "      <td>0.001998</td>\n",
       "    </tr>\n",
       "    <tr>\n",
       "      <th>1</th>\n",
       "      <td>26.75</td>\n",
       "      <td>0.000000</td>\n",
       "    </tr>\n",
       "    <tr>\n",
       "      <th>2</th>\n",
       "      <td>27.25</td>\n",
       "      <td>0.001998</td>\n",
       "    </tr>\n",
       "    <tr>\n",
       "      <th>3</th>\n",
       "      <td>27.75</td>\n",
       "      <td>0.011988</td>\n",
       "    </tr>\n",
       "    <tr>\n",
       "      <th>4</th>\n",
       "      <td>28.25</td>\n",
       "      <td>0.029970</td>\n",
       "    </tr>\n",
       "    <tr>\n",
       "      <th>5</th>\n",
       "      <td>28.75</td>\n",
       "      <td>0.053946</td>\n",
       "    </tr>\n",
       "    <tr>\n",
       "      <th>6</th>\n",
       "      <td>29.25</td>\n",
       "      <td>0.103896</td>\n",
       "    </tr>\n",
       "    <tr>\n",
       "      <th>7</th>\n",
       "      <td>29.75</td>\n",
       "      <td>0.149850</td>\n",
       "    </tr>\n",
       "    <tr>\n",
       "      <th>8</th>\n",
       "      <td>30.25</td>\n",
       "      <td>0.207792</td>\n",
       "    </tr>\n",
       "    <tr>\n",
       "      <th>9</th>\n",
       "      <td>30.75</td>\n",
       "      <td>0.205794</td>\n",
       "    </tr>\n",
       "    <tr>\n",
       "      <th>10</th>\n",
       "      <td>31.25</td>\n",
       "      <td>0.253746</td>\n",
       "    </tr>\n",
       "    <tr>\n",
       "      <th>11</th>\n",
       "      <td>31.75</td>\n",
       "      <td>0.281718</td>\n",
       "    </tr>\n",
       "    <tr>\n",
       "      <th>12</th>\n",
       "      <td>32.25</td>\n",
       "      <td>0.255744</td>\n",
       "    </tr>\n",
       "    <tr>\n",
       "      <th>13</th>\n",
       "      <td>32.75</td>\n",
       "      <td>0.219780</td>\n",
       "    </tr>\n",
       "    <tr>\n",
       "      <th>14</th>\n",
       "      <td>33.25</td>\n",
       "      <td>0.119880</td>\n",
       "    </tr>\n",
       "    <tr>\n",
       "      <th>15</th>\n",
       "      <td>33.75</td>\n",
       "      <td>0.057942</td>\n",
       "    </tr>\n",
       "    <tr>\n",
       "      <th>16</th>\n",
       "      <td>34.25</td>\n",
       "      <td>0.029970</td>\n",
       "    </tr>\n",
       "    <tr>\n",
       "      <th>17</th>\n",
       "      <td>34.75</td>\n",
       "      <td>0.009990</td>\n",
       "    </tr>\n",
       "    <tr>\n",
       "      <th>18</th>\n",
       "      <td>35.25</td>\n",
       "      <td>0.003996</td>\n",
       "    </tr>\n",
       "    <tr>\n",
       "      <th>19</th>\n",
       "      <td>35.75</td>\n",
       "      <td>0.000000</td>\n",
       "    </tr>\n",
       "  </tbody>\n",
       "</table>\n",
       "</div>"
      ],
      "text/plain": [
       "       mi     p(mi)\n",
       "0   26.25  0.001998\n",
       "1   26.75  0.000000\n",
       "2   27.25  0.001998\n",
       "3   27.75  0.011988\n",
       "4   28.25  0.029970\n",
       "5   28.75  0.053946\n",
       "6   29.25  0.103896\n",
       "7   29.75  0.149850\n",
       "8   30.25  0.207792\n",
       "9   30.75  0.205794\n",
       "10  31.25  0.253746\n",
       "11  31.75  0.281718\n",
       "12  32.25  0.255744\n",
       "13  32.75  0.219780\n",
       "14  33.25  0.119880\n",
       "15  33.75  0.057942\n",
       "16  34.25  0.029970\n",
       "17  34.75  0.009990\n",
       "18  35.25  0.003996\n",
       "19  35.75  0.000000"
      ]
     },
     "execution_count": 104,
     "metadata": {},
     "output_type": "execute_result"
    },
    {
     "data": {
      "image/png": "[encoded data removed]",
      "text/plain": [
       "<Figure size 432x288 with 1 Axes>"
      ]
     },
     "metadata": {
      "needs_background": "light"
     },
     "output_type": "display_data"
    }
   ],
   "source": [
    "binw = 0.5\n",
    "ans_df05 = answer (df,binw)\n",
    "print(\"Co-ordinates of density \\n\",ans_df05)\n",
    "plt.hist(x=df.x,range=(26,36), bins = 20,color = 'dimgray') # h = 0.5\n",
    "plt.title(\"Bin Width = 0.5\")\n",
    "plt.grid(axis='y', alpha=0.2)\n",
    "plt.savefig(\"h05.png\")\n",
    "ans_df05"
   ]
  },
  {
   "cell_type": "markdown",
   "metadata": {},
   "source": [
    "### Use h = 0.1, minimum = a and maximum = b. List the coordinates of the density estimator.  Paste the histogram drawn using Python or your favorite graphing tools. "
   ]
  },
  {
   "cell_type": "code",
   "execution_count": 105,
   "metadata": {},
   "outputs": [
    {
     "name": "stdout",
     "output_type": "stream",
     "text": [
      "Number of bins = 100\n"
     ]
    },
    {
     "data": {
      "text/html": [
       "<div>\n",
       "<style scoped>\n",
       "    .dataframe tbody tr th:only-of-type {\n",
       "        vertical-align: middle;\n",
       "    }\n",
       "\n",
       "    .dataframe tbody tr th {\n",
       "        vertical-align: top;\n",
       "    }\n",
       "\n",
       "    .dataframe thead th {\n",
       "        text-align: right;\n",
       "    }\n",
       "</style>\n",
       "<table border=\"1\" class=\"dataframe\">\n",
       "  <thead>\n",
       "    <tr style=\"text-align: right;\">\n",
       "      <th></th>\n",
       "      <th>mi</th>\n",
       "      <th>p(mi)</th>\n",
       "    </tr>\n",
       "  </thead>\n",
       "  <tbody>\n",
       "    <tr>\n",
       "      <th>0</th>\n",
       "      <td>26.05</td>\n",
       "      <td>0.00000</td>\n",
       "    </tr>\n",
       "    <tr>\n",
       "      <th>1</th>\n",
       "      <td>26.15</td>\n",
       "      <td>0.00000</td>\n",
       "    </tr>\n",
       "    <tr>\n",
       "      <th>2</th>\n",
       "      <td>26.25</td>\n",
       "      <td>0.00999</td>\n",
       "    </tr>\n",
       "    <tr>\n",
       "      <th>3</th>\n",
       "      <td>26.35</td>\n",
       "      <td>0.00000</td>\n",
       "    </tr>\n",
       "    <tr>\n",
       "      <th>4</th>\n",
       "      <td>26.45</td>\n",
       "      <td>0.00000</td>\n",
       "    </tr>\n",
       "    <tr>\n",
       "      <th>5</th>\n",
       "      <td>26.55</td>\n",
       "      <td>0.00000</td>\n",
       "    </tr>\n",
       "    <tr>\n",
       "      <th>6</th>\n",
       "      <td>26.65</td>\n",
       "      <td>0.00000</td>\n",
       "    </tr>\n",
       "    <tr>\n",
       "      <th>7</th>\n",
       "      <td>26.75</td>\n",
       "      <td>0.00000</td>\n",
       "    </tr>\n",
       "    <tr>\n",
       "      <th>8</th>\n",
       "      <td>26.85</td>\n",
       "      <td>0.00000</td>\n",
       "    </tr>\n",
       "    <tr>\n",
       "      <th>9</th>\n",
       "      <td>26.95</td>\n",
       "      <td>0.00000</td>\n",
       "    </tr>\n",
       "    <tr>\n",
       "      <th>10</th>\n",
       "      <td>27.05</td>\n",
       "      <td>0.00000</td>\n",
       "    </tr>\n",
       "    <tr>\n",
       "      <th>11</th>\n",
       "      <td>27.15</td>\n",
       "      <td>0.00999</td>\n",
       "    </tr>\n",
       "    <tr>\n",
       "      <th>12</th>\n",
       "      <td>27.25</td>\n",
       "      <td>0.00000</td>\n",
       "    </tr>\n",
       "    <tr>\n",
       "      <th>13</th>\n",
       "      <td>27.35</td>\n",
       "      <td>0.00000</td>\n",
       "    </tr>\n",
       "    <tr>\n",
       "      <th>14</th>\n",
       "      <td>27.45</td>\n",
       "      <td>0.00000</td>\n",
       "    </tr>\n",
       "    <tr>\n",
       "      <th>15</th>\n",
       "      <td>27.55</td>\n",
       "      <td>0.00000</td>\n",
       "    </tr>\n",
       "    <tr>\n",
       "      <th>16</th>\n",
       "      <td>27.65</td>\n",
       "      <td>0.01998</td>\n",
       "    </tr>\n",
       "    <tr>\n",
       "      <th>17</th>\n",
       "      <td>27.75</td>\n",
       "      <td>0.00000</td>\n",
       "    </tr>\n",
       "    <tr>\n",
       "      <th>18</th>\n",
       "      <td>27.85</td>\n",
       "      <td>0.02997</td>\n",
       "    </tr>\n",
       "    <tr>\n",
       "      <th>19</th>\n",
       "      <td>27.95</td>\n",
       "      <td>0.00999</td>\n",
       "    </tr>\n",
       "    <tr>\n",
       "      <th>20</th>\n",
       "      <td>28.05</td>\n",
       "      <td>0.00999</td>\n",
       "    </tr>\n",
       "    <tr>\n",
       "      <th>21</th>\n",
       "      <td>28.15</td>\n",
       "      <td>0.04995</td>\n",
       "    </tr>\n",
       "    <tr>\n",
       "      <th>22</th>\n",
       "      <td>28.25</td>\n",
       "      <td>0.02997</td>\n",
       "    </tr>\n",
       "    <tr>\n",
       "      <th>23</th>\n",
       "      <td>28.35</td>\n",
       "      <td>0.01998</td>\n",
       "    </tr>\n",
       "    <tr>\n",
       "      <th>24</th>\n",
       "      <td>28.45</td>\n",
       "      <td>0.03996</td>\n",
       "    </tr>\n",
       "    <tr>\n",
       "      <th>25</th>\n",
       "      <td>28.55</td>\n",
       "      <td>0.03996</td>\n",
       "    </tr>\n",
       "    <tr>\n",
       "      <th>26</th>\n",
       "      <td>28.65</td>\n",
       "      <td>0.04995</td>\n",
       "    </tr>\n",
       "    <tr>\n",
       "      <th>27</th>\n",
       "      <td>28.75</td>\n",
       "      <td>0.07992</td>\n",
       "    </tr>\n",
       "    <tr>\n",
       "      <th>28</th>\n",
       "      <td>28.85</td>\n",
       "      <td>0.04995</td>\n",
       "    </tr>\n",
       "    <tr>\n",
       "      <th>29</th>\n",
       "      <td>28.95</td>\n",
       "      <td>0.04995</td>\n",
       "    </tr>\n",
       "    <tr>\n",
       "      <th>...</th>\n",
       "      <td>...</td>\n",
       "      <td>...</td>\n",
       "    </tr>\n",
       "    <tr>\n",
       "      <th>70</th>\n",
       "      <td>33.05</td>\n",
       "      <td>0.13986</td>\n",
       "    </tr>\n",
       "    <tr>\n",
       "      <th>71</th>\n",
       "      <td>33.15</td>\n",
       "      <td>0.12987</td>\n",
       "    </tr>\n",
       "    <tr>\n",
       "      <th>72</th>\n",
       "      <td>33.25</td>\n",
       "      <td>0.15984</td>\n",
       "    </tr>\n",
       "    <tr>\n",
       "      <th>73</th>\n",
       "      <td>33.35</td>\n",
       "      <td>0.05994</td>\n",
       "    </tr>\n",
       "    <tr>\n",
       "      <th>74</th>\n",
       "      <td>33.45</td>\n",
       "      <td>0.10989</td>\n",
       "    </tr>\n",
       "    <tr>\n",
       "      <th>75</th>\n",
       "      <td>33.55</td>\n",
       "      <td>0.05994</td>\n",
       "    </tr>\n",
       "    <tr>\n",
       "      <th>76</th>\n",
       "      <td>33.65</td>\n",
       "      <td>0.06993</td>\n",
       "    </tr>\n",
       "    <tr>\n",
       "      <th>77</th>\n",
       "      <td>33.75</td>\n",
       "      <td>0.05994</td>\n",
       "    </tr>\n",
       "    <tr>\n",
       "      <th>78</th>\n",
       "      <td>33.85</td>\n",
       "      <td>0.06993</td>\n",
       "    </tr>\n",
       "    <tr>\n",
       "      <th>79</th>\n",
       "      <td>33.95</td>\n",
       "      <td>0.02997</td>\n",
       "    </tr>\n",
       "    <tr>\n",
       "      <th>80</th>\n",
       "      <td>34.05</td>\n",
       "      <td>0.03996</td>\n",
       "    </tr>\n",
       "    <tr>\n",
       "      <th>81</th>\n",
       "      <td>34.15</td>\n",
       "      <td>0.04995</td>\n",
       "    </tr>\n",
       "    <tr>\n",
       "      <th>82</th>\n",
       "      <td>34.25</td>\n",
       "      <td>0.02997</td>\n",
       "    </tr>\n",
       "    <tr>\n",
       "      <th>83</th>\n",
       "      <td>34.35</td>\n",
       "      <td>0.00999</td>\n",
       "    </tr>\n",
       "    <tr>\n",
       "      <th>84</th>\n",
       "      <td>34.45</td>\n",
       "      <td>0.01998</td>\n",
       "    </tr>\n",
       "    <tr>\n",
       "      <th>85</th>\n",
       "      <td>34.55</td>\n",
       "      <td>0.01998</td>\n",
       "    </tr>\n",
       "    <tr>\n",
       "      <th>86</th>\n",
       "      <td>34.65</td>\n",
       "      <td>0.00999</td>\n",
       "    </tr>\n",
       "    <tr>\n",
       "      <th>87</th>\n",
       "      <td>34.75</td>\n",
       "      <td>0.00999</td>\n",
       "    </tr>\n",
       "    <tr>\n",
       "      <th>88</th>\n",
       "      <td>34.85</td>\n",
       "      <td>0.00999</td>\n",
       "    </tr>\n",
       "    <tr>\n",
       "      <th>89</th>\n",
       "      <td>34.95</td>\n",
       "      <td>0.00000</td>\n",
       "    </tr>\n",
       "    <tr>\n",
       "      <th>90</th>\n",
       "      <td>35.05</td>\n",
       "      <td>0.00000</td>\n",
       "    </tr>\n",
       "    <tr>\n",
       "      <th>91</th>\n",
       "      <td>35.15</td>\n",
       "      <td>0.00000</td>\n",
       "    </tr>\n",
       "    <tr>\n",
       "      <th>92</th>\n",
       "      <td>35.25</td>\n",
       "      <td>0.00999</td>\n",
       "    </tr>\n",
       "    <tr>\n",
       "      <th>93</th>\n",
       "      <td>35.35</td>\n",
       "      <td>0.00999</td>\n",
       "    </tr>\n",
       "    <tr>\n",
       "      <th>94</th>\n",
       "      <td>35.45</td>\n",
       "      <td>0.00000</td>\n",
       "    </tr>\n",
       "    <tr>\n",
       "      <th>95</th>\n",
       "      <td>35.55</td>\n",
       "      <td>0.00000</td>\n",
       "    </tr>\n",
       "    <tr>\n",
       "      <th>96</th>\n",
       "      <td>35.65</td>\n",
       "      <td>0.00000</td>\n",
       "    </tr>\n",
       "    <tr>\n",
       "      <th>97</th>\n",
       "      <td>35.75</td>\n",
       "      <td>0.00000</td>\n",
       "    </tr>\n",
       "    <tr>\n",
       "      <th>98</th>\n",
       "      <td>35.85</td>\n",
       "      <td>0.00000</td>\n",
       "    </tr>\n",
       "    <tr>\n",
       "      <th>99</th>\n",
       "      <td>35.95</td>\n",
       "      <td>0.00000</td>\n",
       "    </tr>\n",
       "  </tbody>\n",
       "</table>\n",
       "<p>100 rows × 2 columns</p>\n",
       "</div>"
      ],
      "text/plain": [
       "       mi    p(mi)\n",
       "0   26.05  0.00000\n",
       "1   26.15  0.00000\n",
       "2   26.25  0.00999\n",
       "3   26.35  0.00000\n",
       "4   26.45  0.00000\n",
       "..    ...      ...\n",
       "95  35.55  0.00000\n",
       "96  35.65  0.00000\n",
       "97  35.75  0.00000\n",
       "98  35.85  0.00000\n",
       "99  35.95  0.00000\n",
       "\n",
       "[100 rows x 2 columns]"
      ]
     },
     "execution_count": 105,
     "metadata": {},
     "output_type": "execute_result"
    },
    {
     "data": {
      "image/png": "[encoded data removed]",
      "text/plain": [
       "<Figure size 432x288 with 1 Axes>"
      ]
     },
     "metadata": {
      "needs_background": "light"
     },
     "output_type": "display_data"
    }
   ],
   "source": [
    "binw = 0.1\n",
    "ans_df01 = answer (df,binw)\n",
    "ans_df01\n",
    "plt.hist(x=df.x,range=(26,36), bins = 100,color = \"dimgrey\") # h = 2\n",
    "plt.title(\"Bin Width = 0.1\")\n",
    "plt.grid(axis='y', alpha=0.2)\n",
    "plt.savefig(\"h01.png\")\n",
    "ans_df01"
   ]
  },
  {
   "cell_type": "markdown",
   "metadata": {},
   "source": [
    "### c)\t(5 points) Draw a boxplot of x (without the group) using the Python boxplot function.  Can you tell if the Python’s boxplot has displayed the 1.5 IQR whiskers correctly?"
   ]
  },
  {
   "cell_type": "code",
   "execution_count": 148,
   "metadata": {
    "_cell_guid": "c2dc8196-d318-4054-9f8e-0ceb8acacdd8",
    "_uuid": "cddc97b8-79cb-4360-bb6d-5d61cbb89bd8"
   },
   "outputs": [
    {
     "data": {
      "image/png": "[encoded data removed]",
      "text/plain": [
       "<Figure size 432x288 with 1 Axes>"
      ]
     },
     "metadata": {
      "needs_background": "light"
     },
     "output_type": "display_data"
    }
   ],
   "source": [
    "import seaborn as sns\n",
    "plt.boxplot(df.x,vert = False)\n",
    "plt.title(\"Boxplot of X\")\n",
    "plt.savefig(\"boxplot_x.png\")"
   ]
  },
  {
   "cell_type": "markdown",
   "metadata": {},
   "source": [
    "### Use in the NormalSample.csv to generate box-plots for answering the following questions.\n",
    "\n",
    "### a)\t(5 points) What is the five-number summary of x?  What are the values of the 1.5 IQR whiskers?\n"
   ]
  },
  {
   "cell_type": "code",
   "execution_count": 109,
   "metadata": {},
   "outputs": [
    {
     "name": "stdout",
     "output_type": "stream",
     "text": [
      "Lower Whisker =  27.4 \n",
      "Upper Whisker =  35.4\n"
     ]
    }
   ],
   "source": [
    "from scipy.stats import iqr\n",
    "inter_quartile_range = iqr(df.x)\n",
    "q1 = np.percentile(df.x,25)\n",
    "q3 = np.percentile(df.x,75)\n",
    "l_whisker = q1 - 1.5*inter_quartile_range\n",
    "u_whisker = q3 + 1.5*inter_quartile_range\n",
    "print (\"Lower Whisker = \",l_whisker,\"\\nUpper Whisker = \",u_whisker)"
   ]
  },
  {
   "cell_type": "markdown",
   "metadata": {},
   "source": [
    "### b)\t5 points) What is the five-number summary of x for each category of the group? What are the values of the 1.5 IQR whiskers for each category of the group?"
   ]
  },
  {
   "cell_type": "code",
   "execution_count": 112,
   "metadata": {},
   "outputs": [],
   "source": [
    "zero = []\n",
    "ones = []\n",
    "for i in range(0,df.x.count()):\n",
    "    if df.group[i] == 0:\n",
    "        zero.append(df.x[i])\n",
    "    else:\n",
    "        ones.append(df.x[i])\n",
    "zeros = np.array(zero)\n",
    "ones = np.array(ones)"
   ]
  },
  {
   "cell_type": "code",
   "execution_count": 113,
   "metadata": {},
   "outputs": [
    {
     "name": "stdout",
     "output_type": "stream",
     "text": [
      "Lower Whisker =  27.599999999999994 \n",
      "Upper Whisker =  32.400000000000006\n"
     ]
    }
   ],
   "source": [
    "from scipy.stats import iqr\n",
    "inter_quartile_range = iqr(zeros)\n",
    "q1 = np.percentile(zeros,25)\n",
    "q3 = np.percentile(zeros,75)\n",
    "l_whisker = q1 - 1.5*inter_quartile_range\n",
    "u_whisker = q3 + 1.5*inter_quartile_range\n",
    "print (\"Lower Whisker = \",l_whisker,\"\\nUpper Whisker = \",u_whisker)"
   ]
  },
  {
   "cell_type": "code",
   "execution_count": 114,
   "metadata": {},
   "outputs": [
    {
     "name": "stdout",
     "output_type": "stream",
     "text": [
      "Lower Whisker =  29.449999999999992 \n",
      "Upper Whisker =  34.650000000000006\n"
     ]
    }
   ],
   "source": [
    "from scipy.stats import iqr\n",
    "inter_quartile_range = iqr(ones)\n",
    "q1 = np.percentile(ones,25)\n",
    "q3 = np.percentile(ones,75)\n",
    "l_whisker = q1 - 1.5*inter_quartile_range\n",
    "u_whisker = q3 + 1.5*inter_quartile_range\n",
    "print (\"Lower Whisker = \",l_whisker,\"\\nUpper Whisker = \",u_whisker)"
   ]
  },
  {
   "cell_type": "code",
   "execution_count": 115,
   "metadata": {},
   "outputs": [
    {
     "data": {
      "image/png": "[encoded data removed]",
      "text/plain": [
       "<Figure size 432x288 with 1 Axes>"
      ]
     },
     "metadata": {
      "needs_background": "light"
     },
     "output_type": "display_data"
    }
   ],
   "source": [
    "plt.boxplot([ones,zero,df.x],widths = 0.4)\n",
    "plt.xticks(np.arange(1,4),(\"Ones\",\"Zeros\",\"X\"))\n",
    "plt.title(\"BoxPlot For Each Category\")\n",
    "plt.savefig(\"CategoryBoxplot.png\")"
   ]
  },
  {
   "cell_type": "code",
   "execution_count": 116,
   "metadata": {
    "_cell_guid": "cff37d96-1cce-4f70-ae34-b357863c0d63",
    "_uuid": "a2a78ffa-31b8-46a9-a7d7-25aa2e62fd0a"
   },
   "outputs": [
    {
     "data": {
      "text/html": [
       "<div>\n",
       "<style scoped>\n",
       "    .dataframe tbody tr th:only-of-type {\n",
       "        vertical-align: middle;\n",
       "    }\n",
       "\n",
       "    .dataframe tbody tr th {\n",
       "        vertical-align: top;\n",
       "    }\n",
       "\n",
       "    .dataframe thead th {\n",
       "        text-align: right;\n",
       "    }\n",
       "</style>\n",
       "<table border=\"1\" class=\"dataframe\">\n",
       "  <thead>\n",
       "    <tr style=\"text-align: right;\">\n",
       "      <th></th>\n",
       "      <th>i</th>\n",
       "      <th>group</th>\n",
       "      <th>x</th>\n",
       "    </tr>\n",
       "  </thead>\n",
       "  <tbody>\n",
       "    <tr>\n",
       "      <th>count</th>\n",
       "      <td>315.000000</td>\n",
       "      <td>315.0</td>\n",
       "      <td>315.000000</td>\n",
       "    </tr>\n",
       "    <tr>\n",
       "      <th>mean</th>\n",
       "      <td>501.866667</td>\n",
       "      <td>0.0</td>\n",
       "      <td>30.004127</td>\n",
       "    </tr>\n",
       "    <tr>\n",
       "      <th>std</th>\n",
       "      <td>287.813171</td>\n",
       "      <td>0.0</td>\n",
       "      <td>0.973935</td>\n",
       "    </tr>\n",
       "    <tr>\n",
       "      <th>min</th>\n",
       "      <td>2.000000</td>\n",
       "      <td>0.0</td>\n",
       "      <td>26.300000</td>\n",
       "    </tr>\n",
       "    <tr>\n",
       "      <th>25%</th>\n",
       "      <td>260.500000</td>\n",
       "      <td>0.0</td>\n",
       "      <td>29.400000</td>\n",
       "    </tr>\n",
       "    <tr>\n",
       "      <th>50%</th>\n",
       "      <td>494.000000</td>\n",
       "      <td>0.0</td>\n",
       "      <td>30.000000</td>\n",
       "    </tr>\n",
       "    <tr>\n",
       "      <th>75%</th>\n",
       "      <td>747.000000</td>\n",
       "      <td>0.0</td>\n",
       "      <td>30.600000</td>\n",
       "    </tr>\n",
       "    <tr>\n",
       "      <th>max</th>\n",
       "      <td>1000.000000</td>\n",
       "      <td>0.0</td>\n",
       "      <td>32.200000</td>\n",
       "    </tr>\n",
       "  </tbody>\n",
       "</table>\n",
       "</div>"
      ],
      "text/plain": [
       "                 i  group           x\n",
       "count   315.000000  315.0  315.000000\n",
       "mean    501.866667    0.0   30.004127\n",
       "std     287.813171    0.0    0.973935\n",
       "min       2.000000    0.0   26.300000\n",
       "25%     260.500000    0.0   29.400000\n",
       "50%     494.000000    0.0   30.000000\n",
       "75%     747.000000    0.0   30.600000\n",
       "max    1000.000000    0.0   32.200000"
      ]
     },
     "execution_count": 116,
     "metadata": {},
     "output_type": "execute_result"
    }
   ],
   "source": [
    "df0 = df[df['group']==0]\n",
    "df0.describe()"
   ]
  },
  {
   "cell_type": "code",
   "execution_count": 117,
   "metadata": {
    "_cell_guid": "17110bda-7b7d-4e1a-9c22-022aaa0749ef",
    "_uuid": "6ef84e24-98d1-4526-84c3-c916be741cc1"
   },
   "outputs": [
    {
     "data": {
      "text/html": [
       "<div>\n",
       "<style scoped>\n",
       "    .dataframe tbody tr th:only-of-type {\n",
       "        vertical-align: middle;\n",
       "    }\n",
       "\n",
       "    .dataframe tbody tr th {\n",
       "        vertical-align: top;\n",
       "    }\n",
       "\n",
       "    .dataframe thead th {\n",
       "        text-align: right;\n",
       "    }\n",
       "</style>\n",
       "<table border=\"1\" class=\"dataframe\">\n",
       "  <thead>\n",
       "    <tr style=\"text-align: right;\">\n",
       "      <th></th>\n",
       "      <th>i</th>\n",
       "      <th>group</th>\n",
       "      <th>x</th>\n",
       "    </tr>\n",
       "  </thead>\n",
       "  <tbody>\n",
       "    <tr>\n",
       "      <th>count</th>\n",
       "      <td>686.000000</td>\n",
       "      <td>686.0</td>\n",
       "      <td>686.000000</td>\n",
       "    </tr>\n",
       "    <tr>\n",
       "      <th>mean</th>\n",
       "      <td>499.142857</td>\n",
       "      <td>1.0</td>\n",
       "      <td>32.062245</td>\n",
       "    </tr>\n",
       "    <tr>\n",
       "      <th>std</th>\n",
       "      <td>289.906257</td>\n",
       "      <td>0.0</td>\n",
       "      <td>1.040236</td>\n",
       "    </tr>\n",
       "    <tr>\n",
       "      <th>min</th>\n",
       "      <td>0.000000</td>\n",
       "      <td>1.0</td>\n",
       "      <td>29.100000</td>\n",
       "    </tr>\n",
       "    <tr>\n",
       "      <th>25%</th>\n",
       "      <td>241.250000</td>\n",
       "      <td>1.0</td>\n",
       "      <td>31.400000</td>\n",
       "    </tr>\n",
       "    <tr>\n",
       "      <th>50%</th>\n",
       "      <td>500.500000</td>\n",
       "      <td>1.0</td>\n",
       "      <td>32.100000</td>\n",
       "    </tr>\n",
       "    <tr>\n",
       "      <th>75%</th>\n",
       "      <td>754.750000</td>\n",
       "      <td>1.0</td>\n",
       "      <td>32.700000</td>\n",
       "    </tr>\n",
       "    <tr>\n",
       "      <th>max</th>\n",
       "      <td>998.000000</td>\n",
       "      <td>1.0</td>\n",
       "      <td>35.400000</td>\n",
       "    </tr>\n",
       "  </tbody>\n",
       "</table>\n",
       "</div>"
      ],
      "text/plain": [
       "                i  group           x\n",
       "count  686.000000  686.0  686.000000\n",
       "mean   499.142857    1.0   32.062245\n",
       "std    289.906257    0.0    1.040236\n",
       "min      0.000000    1.0   29.100000\n",
       "25%    241.250000    1.0   31.400000\n",
       "50%    500.500000    1.0   32.100000\n",
       "75%    754.750000    1.0   32.700000\n",
       "max    998.000000    1.0   35.400000"
      ]
     },
     "execution_count": 117,
     "metadata": {},
     "output_type": "execute_result"
    }
   ],
   "source": [
    "df1 = df[df['group']==1]\n",
    "df1.describe()"
   ]
  },
  {
   "cell_type": "code",
   "execution_count": 118,
   "metadata": {
    "_cell_guid": "3a752029-9732-4806-99cf-90e4eb9f7e16",
    "_uuid": "d32d7f2c-d263-419b-a229-ff5d24a46db9"
   },
   "outputs": [],
   "source": [
    "fraud_df = pd.read_csv(\"/kaggle/input/fraudknn/Fraud.csv\")"
   ]
  },
  {
   "cell_type": "code",
   "execution_count": 119,
   "metadata": {
    "_cell_guid": "a8aba854-bee8-4615-90df-7979847f4d97",
    "_uuid": "23816627-bc7c-48a7-b207-79f9b42b6ef5"
   },
   "outputs": [
    {
     "data": {
      "text/html": [
       "<div>\n",
       "<style scoped>\n",
       "    .dataframe tbody tr th:only-of-type {\n",
       "        vertical-align: middle;\n",
       "    }\n",
       "\n",
       "    .dataframe tbody tr th {\n",
       "        vertical-align: top;\n",
       "    }\n",
       "\n",
       "    .dataframe thead th {\n",
       "        text-align: right;\n",
       "    }\n",
       "</style>\n",
       "<table border=\"1\" class=\"dataframe\">\n",
       "  <thead>\n",
       "    <tr style=\"text-align: right;\">\n",
       "      <th></th>\n",
       "      <th>CASE_ID</th>\n",
       "      <th>FRAUD</th>\n",
       "      <th>TOTAL_SPEND</th>\n",
       "      <th>DOCTOR_VISITS</th>\n",
       "      <th>NUM_CLAIMS</th>\n",
       "      <th>MEMBER_DURATION</th>\n",
       "      <th>OPTOM_PRESC</th>\n",
       "      <th>NUM_MEMBERS</th>\n",
       "    </tr>\n",
       "  </thead>\n",
       "  <tbody>\n",
       "    <tr>\n",
       "      <th>0</th>\n",
       "      <td>1</td>\n",
       "      <td>1</td>\n",
       "      <td>1100</td>\n",
       "      <td>11</td>\n",
       "      <td>0</td>\n",
       "      <td>94</td>\n",
       "      <td>1</td>\n",
       "      <td>2</td>\n",
       "    </tr>\n",
       "    <tr>\n",
       "      <th>1</th>\n",
       "      <td>2</td>\n",
       "      <td>1</td>\n",
       "      <td>1300</td>\n",
       "      <td>7</td>\n",
       "      <td>2</td>\n",
       "      <td>122</td>\n",
       "      <td>0</td>\n",
       "      <td>1</td>\n",
       "    </tr>\n",
       "    <tr>\n",
       "      <th>2</th>\n",
       "      <td>3</td>\n",
       "      <td>1</td>\n",
       "      <td>1500</td>\n",
       "      <td>4</td>\n",
       "      <td>0</td>\n",
       "      <td>149</td>\n",
       "      <td>1</td>\n",
       "      <td>3</td>\n",
       "    </tr>\n",
       "    <tr>\n",
       "      <th>3</th>\n",
       "      <td>4</td>\n",
       "      <td>1</td>\n",
       "      <td>1500</td>\n",
       "      <td>9</td>\n",
       "      <td>0</td>\n",
       "      <td>180</td>\n",
       "      <td>1</td>\n",
       "      <td>1</td>\n",
       "    </tr>\n",
       "    <tr>\n",
       "      <th>4</th>\n",
       "      <td>5</td>\n",
       "      <td>0</td>\n",
       "      <td>1700</td>\n",
       "      <td>3</td>\n",
       "      <td>0</td>\n",
       "      <td>93</td>\n",
       "      <td>0</td>\n",
       "      <td>1</td>\n",
       "    </tr>\n",
       "  </tbody>\n",
       "</table>\n",
       "</div>"
      ],
      "text/plain": [
       "   CASE_ID  FRAUD  TOTAL_SPEND  DOCTOR_VISITS  NUM_CLAIMS  MEMBER_DURATION  \\\n",
       "0        1      1         1100             11           0               94   \n",
       "1        2      1         1300              7           2              122   \n",
       "2        3      1         1500              4           0              149   \n",
       "3        4      1         1500              9           0              180   \n",
       "4        5      0         1700              3           0               93   \n",
       "\n",
       "   OPTOM_PRESC  NUM_MEMBERS  \n",
       "0            1            2  \n",
       "1            0            1  \n",
       "2            1            3  \n",
       "3            1            1  \n",
       "4            0            1  "
      ]
     },
     "execution_count": 119,
     "metadata": {},
     "output_type": "execute_result"
    }
   ],
   "source": [
    "fraud_df.head()"
   ]
  },
  {
   "cell_type": "markdown",
   "metadata": {},
   "source": [
    "### a)\t(5 points) What percent of investigations are found to be fraudulent?  Please give your answer up to 4 decimal places."
   ]
  },
  {
   "cell_type": "code",
   "execution_count": 120,
   "metadata": {
    "_cell_guid": "91c7ea61-ee21-4038-bdfc-767ee05bb23d",
    "_uuid": "cc112c5e-4d83-46a3-b64e-092ee9957f4a"
   },
   "outputs": [],
   "source": [
    "num_no_frauds = fraud_df.FRAUD.value_counts()[0]\n",
    "num_of_frauds = fraud_df.FRAUD.value_counts()[1]\n",
    "count = fraud_df.FRAUD.count()"
   ]
  },
  {
   "cell_type": "code",
   "execution_count": 121,
   "metadata": {
    "_cell_guid": "ef229278-a73a-48ff-8e57-9318822f5e6b",
    "_uuid": "5d82927b-e414-4e01-8af6-c97d526f28fd"
   },
   "outputs": [
    {
     "name": "stdout",
     "output_type": "stream",
     "text": [
      "19.9497\n"
     ]
    }
   ],
   "source": [
    "fraud_percent = num_of_frauds/count*100\n",
    "print(round(fraud_percent,4))"
   ]
  },
  {
   "cell_type": "code",
   "execution_count": 122,
   "metadata": {},
   "outputs": [
    {
     "data": {
      "text/plain": [
       "Index(['CASE_ID', 'FRAUD', 'TOTAL_SPEND', 'DOCTOR_VISITS', 'NUM_CLAIMS',\n",
       "       'MEMBER_DURATION', 'OPTOM_PRESC', 'NUM_MEMBERS'],\n",
       "      dtype='object')"
      ]
     },
     "execution_count": 122,
     "metadata": {},
     "output_type": "execute_result"
    }
   ],
   "source": [
    "fraud_df.columns"
   ]
  },
  {
   "cell_type": "markdown",
   "metadata": {},
   "source": [
    "### b)\t(5 points) Use the BOXPLOT function to produce horizontal box-plots.  For each interval variable, one box-plot for the fraudulent observations, and another box-plot for the non-fraudulent observations.  These two box-plots must appear in the same graph for each interval variable."
   ]
  },
  {
   "cell_type": "code",
   "execution_count": 123,
   "metadata": {
    "_cell_guid": "df593c39-7f8e-4ee6-9db3-3d6226c2f4aa",
    "_uuid": "68b45284-e7ec-407d-8ce9-303d825aac67"
   },
   "outputs": [
    {
     "data": {
      "image/png": "[encoded data removed]",
      "text/plain": [
       "<Figure size 432x288 with 1 Axes>"
      ]
     },
     "metadata": {
      "needs_background": "light"
     },
     "output_type": "display_data"
    }
   ],
   "source": [
    "sns.boxplot(data = fraud_df , x = 'TOTAL_SPEND' , y = 'FRAUD',orient = 'h')\n",
    "plt.title(\"Total Spent\")\n",
    "plt.savefig(\"TotalSpent.png\")"
   ]
  },
  {
   "cell_type": "code",
   "execution_count": 124,
   "metadata": {},
   "outputs": [
    {
     "data": {
      "image/png": "[encoded data removed]",
      "text/plain": [
       "<Figure size 432x288 with 1 Axes>"
      ]
     },
     "metadata": {
      "needs_background": "light"
     },
     "output_type": "display_data"
    }
   ],
   "source": [
    "sns.boxplot(data = fraud_df , x = 'NUM_MEMBERS' , y = 'FRAUD',orient = 'h')\n",
    "plt.title(\"Number of members covered\")\n",
    "plt.savefig(\"Num_members.png\")"
   ]
  },
  {
   "cell_type": "code",
   "execution_count": 125,
   "metadata": {},
   "outputs": [
    {
     "data": {
      "image/png": "[encoded data removed]",
      "text/plain": [
       "<Figure size 432x288 with 1 Axes>"
      ]
     },
     "metadata": {
      "needs_background": "light"
     },
     "output_type": "display_data"
    }
   ],
   "source": [
    "sns.boxplot(data = fraud_df , x = 'MEMBER_DURATION' , y = 'FRAUD', orient = 'h')\n",
    "plt.title(\"Member Duration\")\n",
    "plt.savefig(\"Mem_duration.png\")"
   ]
  },
  {
   "cell_type": "code",
   "execution_count": 126,
   "metadata": {},
   "outputs": [
    {
     "data": {
      "image/png": "[encoded data removed]",
      "text/plain": [
       "<Figure size 432x288 with 1 Axes>"
      ]
     },
     "metadata": {
      "needs_background": "light"
     },
     "output_type": "display_data"
    }
   ],
   "source": [
    "sns.boxplot(data = fraud_df , x = 'OPTOM_PRESC' , y = 'FRAUD' , orient = 'h')\n",
    "plt.title(\"Number of optical examinations\")\n",
    "plt.savefig(\"Optom_Presc.png\")"
   ]
  },
  {
   "cell_type": "code",
   "execution_count": 127,
   "metadata": {},
   "outputs": [
    {
     "data": {
      "image/png": "[encoded data removed]",
      "text/plain": [
       "<Figure size 432x288 with 1 Axes>"
      ]
     },
     "metadata": {
      "needs_background": "light"
     },
     "output_type": "display_data"
    }
   ],
   "source": [
    "sns.boxplot(data = fraud_df , x = 'DOCTOR_VISITS' , y = 'FRAUD' ,orient = 'h')\n",
    "plt.title(\"Number of visits to a doctor  \")\n",
    "plt.savefig(\"Doctor_Visit.png\")"
   ]
  },
  {
   "cell_type": "code",
   "execution_count": 128,
   "metadata": {},
   "outputs": [
    {
     "data": {
      "image/png": "[encoded data removed]",
      "text/plain": [
       "<Figure size 432x288 with 1 Axes>"
      ]
     },
     "metadata": {
      "needs_background": "light"
     },
     "output_type": "display_data"
    }
   ],
   "source": [
    "sns.boxplot(data = fraud_df , x = 'NUM_CLAIMS' , y = 'FRAUD',orient = 'h')\n",
    "plt.title(\"Number of claims made recently \")\n",
    "plt.savefig(\"Num_claims.png\")"
   ]
  },
  {
   "cell_type": "code",
   "execution_count": 129,
   "metadata": {},
   "outputs": [
    {
     "data": {
      "text/html": [
       "<div>\n",
       "<style scoped>\n",
       "    .dataframe tbody tr th:only-of-type {\n",
       "        vertical-align: middle;\n",
       "    }\n",
       "\n",
       "    .dataframe tbody tr th {\n",
       "        vertical-align: top;\n",
       "    }\n",
       "\n",
       "    .dataframe thead th {\n",
       "        text-align: right;\n",
       "    }\n",
       "</style>\n",
       "<table border=\"1\" class=\"dataframe\">\n",
       "  <thead>\n",
       "    <tr style=\"text-align: right;\">\n",
       "      <th></th>\n",
       "      <th>CASE_ID</th>\n",
       "      <th>FRAUD</th>\n",
       "      <th>TOTAL_SPEND</th>\n",
       "      <th>DOCTOR_VISITS</th>\n",
       "      <th>NUM_CLAIMS</th>\n",
       "      <th>MEMBER_DURATION</th>\n",
       "      <th>OPTOM_PRESC</th>\n",
       "      <th>NUM_MEMBERS</th>\n",
       "    </tr>\n",
       "  </thead>\n",
       "  <tbody>\n",
       "    <tr>\n",
       "      <th>0</th>\n",
       "      <td>1</td>\n",
       "      <td>1</td>\n",
       "      <td>1100</td>\n",
       "      <td>11</td>\n",
       "      <td>0</td>\n",
       "      <td>94</td>\n",
       "      <td>1</td>\n",
       "      <td>2</td>\n",
       "    </tr>\n",
       "    <tr>\n",
       "      <th>1</th>\n",
       "      <td>2</td>\n",
       "      <td>1</td>\n",
       "      <td>1300</td>\n",
       "      <td>7</td>\n",
       "      <td>2</td>\n",
       "      <td>122</td>\n",
       "      <td>0</td>\n",
       "      <td>1</td>\n",
       "    </tr>\n",
       "    <tr>\n",
       "      <th>2</th>\n",
       "      <td>3</td>\n",
       "      <td>1</td>\n",
       "      <td>1500</td>\n",
       "      <td>4</td>\n",
       "      <td>0</td>\n",
       "      <td>149</td>\n",
       "      <td>1</td>\n",
       "      <td>3</td>\n",
       "    </tr>\n",
       "    <tr>\n",
       "      <th>3</th>\n",
       "      <td>4</td>\n",
       "      <td>1</td>\n",
       "      <td>1500</td>\n",
       "      <td>9</td>\n",
       "      <td>0</td>\n",
       "      <td>180</td>\n",
       "      <td>1</td>\n",
       "      <td>1</td>\n",
       "    </tr>\n",
       "    <tr>\n",
       "      <th>4</th>\n",
       "      <td>5</td>\n",
       "      <td>0</td>\n",
       "      <td>1700</td>\n",
       "      <td>3</td>\n",
       "      <td>0</td>\n",
       "      <td>93</td>\n",
       "      <td>0</td>\n",
       "      <td>1</td>\n",
       "    </tr>\n",
       "  </tbody>\n",
       "</table>\n",
       "</div>"
      ],
      "text/plain": [
       "   CASE_ID  FRAUD  TOTAL_SPEND  DOCTOR_VISITS  NUM_CLAIMS  MEMBER_DURATION  \\\n",
       "0        1      1         1100             11           0               94   \n",
       "1        2      1         1300              7           2              122   \n",
       "2        3      1         1500              4           0              149   \n",
       "3        4      1         1500              9           0              180   \n",
       "4        5      0         1700              3           0               93   \n",
       "\n",
       "   OPTOM_PRESC  NUM_MEMBERS  \n",
       "0            1            2  \n",
       "1            0            1  \n",
       "2            1            3  \n",
       "3            1            1  \n",
       "4            0            1  "
      ]
     },
     "execution_count": 129,
     "metadata": {},
     "output_type": "execute_result"
    }
   ],
   "source": [
    "fraud_df.head()\n"
   ]
  },
  {
   "cell_type": "markdown",
   "metadata": {},
   "source": [
    "### c)\t(10 points) Orthonormalize interval variables and use the resulting variables for the nearest neighbor analysis. Use only the dimensions whose corresponding eigenvalues are greater than one.\n",
    "### i.\t(5 points) How many dimensions are used?\n",
    "### ii.\t(5 points) Please provide the transformation matrix?  You must provide proof that the resulting variables are actually orthonormal.\n"
   ]
  },
  {
   "cell_type": "code",
   "execution_count": 130,
   "metadata": {},
   "outputs": [],
   "source": [
    "fraud_df = pd.read_csv(\"/kaggle/input/fraudknn/Fraud.csv\",usecols=[\"TOTAL_SPEND\",\"DOCTOR_VISITS\",\"NUM_CLAIMS\",\"MEMBER_DURATION\",\"OPTOM_PRESC\",\"NUM_MEMBERS\"])"
   ]
  },
  {
   "cell_type": "code",
   "execution_count": 131,
   "metadata": {},
   "outputs": [],
   "source": [
    "x = np.matrix(fraud_df)"
   ]
  },
  {
   "cell_type": "code",
   "execution_count": 132,
   "metadata": {},
   "outputs": [
    {
     "name": "stdout",
     "output_type": "stream",
     "text": [
      "t(x) * x = \n",
      " [[2812184770000    1040176400      42913200   20404919400     134771800\n",
      "      220035900]\n",
      " [   1040176400        788159         23809      10264845         57654\n",
      "         106717]\n",
      " [     42913200         23809          7922        448090          3459\n",
      "           4765]\n",
      " [  20404919400      10264845        448090     232422585       1163391\n",
      "        2121127]\n",
      " [    134771800         57654          3459       1163391         24460\n",
      "          13581]\n",
      " [    220035900        106717          4765       2121127         13581\n",
      "          29423]]\n",
      "Eigenvalues of x = \n",
      " [6.84728061e+03 8.38798104e+03 1.80639631e+04 3.15839942e+05\n",
      " 8.44539131e+07 2.81233324e+12]\n",
      "Eigenvectors of x = \n",
      " [[-5.37750046e-06 -2.20900379e-05  3.62806809e-05 -1.36298664e-04\n",
      "  -7.26453432e-03  9.99973603e-01]\n",
      " [ 6.05433402e-03 -2.69942162e-02  1.27528313e-02  9.99013423e-01\n",
      "   3.23120126e-02  3.69879256e-04]\n",
      " [-9.82198935e-01  1.56454700e-01 -1.03312781e-01  1.14463687e-02\n",
      "   1.62110700e-03  1.52596881e-05]\n",
      " [ 1.59310591e-04 -4.91894718e-03  3.11864824e-03 -3.25018102e-02\n",
      "   9.99428355e-01  7.25592222e-03]\n",
      " [ 6.90939783e-02 -2.10615119e-01 -9.75101628e-01  6.26672294e-03\n",
      "   2.19857585e-03  4.79234486e-05]\n",
      " [ 1.74569737e-01  9.64577791e-01 -1.95782843e-01  2.73038995e-02\n",
      "   6.21788707e-03  7.82430481e-05]]\n",
      "Transformation Matrix = \n",
      " [[-6.49862374e-08 -2.41194689e-07  2.69941036e-07 -2.42525871e-07\n",
      "  -7.90492750e-07  5.96286732e-07]\n",
      " [ 7.31656633e-05 -2.94741983e-04  9.48855536e-05  1.77761538e-03\n",
      "   3.51604254e-06  2.20559915e-10]\n",
      " [-1.18697179e-02  1.70828329e-03 -7.68683456e-04  2.03673350e-05\n",
      "   1.76401304e-07  9.09938972e-12]\n",
      " [ 1.92524315e-06 -5.37085514e-05  2.32038406e-05 -5.78327741e-05\n",
      "   1.08753133e-04  4.32672436e-09]\n",
      " [ 8.34989734e-04 -2.29964514e-03 -7.25509934e-03  1.11508242e-05\n",
      "   2.39238772e-07  2.85768709e-11]\n",
      " [ 2.10964750e-03  1.05319439e-02 -1.45669326e-03  4.85837631e-05\n",
      "   6.76601477e-07  4.66565230e-11]]\n",
      "The Transformed x = \n",
      " [[ 5.96859502e-03  1.02081629e-02 -6.64664861e-03  1.39590283e-02\n",
      "   9.39352141e-03  6.56324665e-04]\n",
      " [-2.09672310e-02  5.01932025e-03  8.51930607e-04  5.16174400e-03\n",
      "   1.22658834e-02  7.75702220e-04]\n",
      " [ 7.64597676e-03  1.97528525e-02 -7.38335310e-03 -1.71350853e-03\n",
      "   1.50348109e-02  8.95075830e-04]\n",
      " ...\n",
      " [-7.18408819e-05 -1.62580211e-02  2.75078514e-02 -7.13245766e-03\n",
      "  -4.74021952e-02  5.31896971e-02]\n",
      " [-1.80147801e-04 -1.62154130e-02  2.76213381e-02 -9.17125411e-03\n",
      "  -4.76625006e-02  5.35474776e-02]\n",
      " [-2.21157680e-03 -2.73884697e-02  2.93391341e-02 -7.81347172e-03\n",
      "  -4.70861917e-02  5.36071324e-02]]\n"
     ]
    }
   ],
   "source": [
    "xtx = x.transpose() * x\n",
    "print(\"t(x) * x = \\n\", xtx)\n",
    "\n",
    "# Eigenvalue decomposition\n",
    "evals, evecs = LA.eigh(xtx)\n",
    "print(\"Eigenvalues of x = \\n\", evals)\n",
    "print(\"Eigenvectors of x = \\n\",evecs)\n",
    "\n",
    "# Here is the transformation matrix\n",
    "transf = evecs * LA.inv(np.sqrt(np.diagflat(evals)));\n",
    "print(\"Transformation Matrix = \\n\", transf)\n",
    "\n",
    "# Here is the transformed X\n",
    "transf_x = x * transf;\n",
    "print(\"The Transformed x = \\n\", transf_x)\n"
   ]
  },
  {
   "cell_type": "code",
   "execution_count": 133,
   "metadata": {},
   "outputs": [
    {
     "name": "stdout",
     "output_type": "stream",
     "text": [
      "Expect an Identity Matrix = \n",
      " [[ 1.00000000e+00 -2.87703888e-15  1.90299165e-15  7.06552872e-15\n",
      "   1.16226473e-15 -1.35308431e-16]\n",
      " [-2.87703888e-15  1.00000000e+00 -1.37216627e-15 -1.98244199e-14\n",
      "  -6.59194921e-16  7.21644966e-16]\n",
      " [ 1.90299165e-15 -1.37216627e-15  1.00000000e+00  4.96366728e-15\n",
      "  -6.24500451e-17 -1.17961196e-16]\n",
      " [ 7.06552872e-15 -1.98244199e-14  4.96366728e-15  1.00000000e+00\n",
      "   1.10432496e-14 -4.20496971e-15]\n",
      " [ 1.16226473e-15 -6.59194921e-16 -6.24500451e-17  1.10432496e-14\n",
      "   1.00000000e+00 -6.66133815e-16]\n",
      " [-1.35308431e-16  7.21644966e-16 -1.17961196e-16 -4.20496971e-15\n",
      "  -6.66133815e-16  1.00000000e+00]]\n",
      "The orthonormalize x = \n",
      " [[-6.56324665e-04  9.39352141e-03  1.39590283e-02 -6.64664861e-03\n",
      "   1.02081629e-02 -5.96859502e-03]\n",
      " [-7.75702220e-04  1.22658834e-02  5.16174400e-03  8.51930607e-04\n",
      "   5.01932025e-03  2.09672310e-02]\n",
      " [-8.95075830e-04  1.50348109e-02 -1.71350853e-03 -7.38335310e-03\n",
      "   1.97528525e-02 -7.64597676e-03]\n",
      " ...\n",
      " [-5.31896971e-02 -4.74021952e-02 -7.13245766e-03  2.75078514e-02\n",
      "  -1.62580211e-02  7.18408819e-05]\n",
      " [-5.35474776e-02 -4.76625006e-02 -9.17125411e-03  2.76213381e-02\n",
      "  -1.62154130e-02  1.80147801e-04]\n",
      " [-5.36071324e-02 -4.70861917e-02 -7.81347172e-03  2.93391341e-02\n",
      "  -2.73884697e-02  2.21157680e-03]]\n",
      "Also Expect an Identity Matrix = \n",
      " [[ 1.00000000e+00 -5.55111512e-17  7.63278329e-17 -4.16333634e-17\n",
      "   6.93889390e-18 -1.38777878e-17]\n",
      " [-5.55111512e-17  1.00000000e+00  2.01227923e-16  2.77555756e-17\n",
      "  -2.77555756e-17 -1.73472348e-18]\n",
      " [ 7.63278329e-17  2.01227923e-16  1.00000000e+00 -7.90383384e-17\n",
      "  -8.67361738e-18  6.46184495e-17]\n",
      " [-4.16333634e-17  2.77555756e-17 -7.90383384e-17  1.00000000e+00\n",
      "  -9.45424294e-17  1.44849410e-16]\n",
      " [ 6.93889390e-18 -2.77555756e-17 -8.67361738e-18 -9.45424294e-17\n",
      "   1.00000000e+00  3.33283748e-16]\n",
      " [-1.38777878e-17 -1.73472348e-18  6.46184495e-17  1.44849410e-16\n",
      "   3.33283748e-16  1.00000000e+00]]\n"
     ]
    }
   ],
   "source": [
    "# Check columns of transformed X\n",
    "xtx = transf_x.transpose() * transf_x;\n",
    "print(\"Expect an Identity Matrix = \\n\", xtx)\n",
    "\n",
    "# Orthonormalize using the orth function \n",
    "import scipy\n",
    "from scipy import linalg as LA2\n",
    "\n",
    "orthx = LA2.orth(x)\n",
    "print(\"The orthonormalize x = \\n\", orthx)\n",
    "\n",
    "# Check columns of the ORTH function\n",
    "check = orthx.transpose().dot(orthx)\n",
    "print(\"Also Expect an Identity Matrix = \\n\", check)"
   ]
  },
  {
   "cell_type": "code",
   "execution_count": 134,
   "metadata": {},
   "outputs": [],
   "source": [
    "from sklearn.neighbors import KNeighborsClassifier"
   ]
  },
  {
   "cell_type": "code",
   "execution_count": 135,
   "metadata": {},
   "outputs": [],
   "source": [
    "target = pd.read_csv(\"/kaggle/input/fraudknn/Fraud.csv\",usecols=[\"FRAUD\"])"
   ]
  },
  {
   "cell_type": "markdown",
   "metadata": {},
   "source": [
    "### 10 points) Use the NearestNeighbors module to execute the Nearest Neighbors algorithm using exactly five neighbors and the resulting variables you have chosen in c).  The KNeighborsClassifier module has a score function.\n",
    "\n",
    "### i.\t(5 points) Run the score function, provide the function return value\n",
    "### ii.\t(5 points) Explain the meaning of the score function return value.\n"
   ]
  },
  {
   "cell_type": "code",
   "execution_count": 136,
   "metadata": {},
   "outputs": [
    {
     "name": "stderr",
     "output_type": "stream",
     "text": [
      "/opt/conda/lib/python3.6/site-packages/ipykernel_launcher.py:3: DataConversionWarning: A column-vector y was passed when a 1d array was expected. Please change the shape of y to (n_samples, ), for example using ravel().\n",
      "  This is separate from the ipykernel package so we can avoid doing imports until\n"
     ]
    },
    {
     "name": "stdout",
     "output_type": "stream",
     "text": [
      "0.8778523489932886\n"
     ]
    }
   ],
   "source": [
    "from sklearn import metrics\n",
    "knn = KNeighborsClassifier(n_neighbors=5, metric = \"euclidean\")\n",
    "knn.fit(transf_x,target)\n",
    "predictions = knn.predict(transf_x)\n",
    "print(metrics.accuracy_score(target,predictions))"
   ]
  },
  {
   "cell_type": "markdown",
   "metadata": {},
   "source": [
    "### e)\t(5 points) For the observation which has these input variable values: TOTAL_SPEND = 7500, DOCTOR_VISITS = 15, NUM_CLAIMS = 3, MEMBER_DURATION = 127, OPTOM_PRESC = 2, and NUM_MEMBERS = 2, find its five neighbors.  Please list their input variable values and the target values. Reminder: transform the input observation using the results in c) before finding the neighbors."
   ]
  },
  {
   "cell_type": "code",
   "execution_count": 137,
   "metadata": {},
   "outputs": [
    {
     "data": {
      "text/plain": [
       "matrix([[-0.02886529,  0.00853837, -0.01333491,  0.0176811 ,  0.00793805,\n",
       "          0.0044727 ]])"
      ]
     },
     "execution_count": 137,
     "metadata": {},
     "output_type": "execute_result"
    }
   ],
   "source": [
    "test = [[7500,15,3,127,2,2]] * transf;\n",
    "test"
   ]
  },
  {
   "cell_type": "code",
   "execution_count": 138,
   "metadata": {},
   "outputs": [
    {
     "data": {
      "text/plain": [
       "array([[ 588, 2897, 1199, 1246,  886]])"
      ]
     },
     "execution_count": 138,
     "metadata": {},
     "output_type": "execute_result"
    }
   ],
   "source": [
    "neighs = knn.kneighbors(test,return_distance=False)\n",
    "neighs"
   ]
  },
  {
   "cell_type": "code",
   "execution_count": 139,
   "metadata": {},
   "outputs": [
    {
     "data": {
      "text/html": [
       "<div>\n",
       "<style scoped>\n",
       "    .dataframe tbody tr th:only-of-type {\n",
       "        vertical-align: middle;\n",
       "    }\n",
       "\n",
       "    .dataframe tbody tr th {\n",
       "        vertical-align: top;\n",
       "    }\n",
       "\n",
       "    .dataframe thead th {\n",
       "        text-align: right;\n",
       "    }\n",
       "</style>\n",
       "<table border=\"1\" class=\"dataframe\">\n",
       "  <thead>\n",
       "    <tr style=\"text-align: right;\">\n",
       "      <th></th>\n",
       "      <th>CASE_ID</th>\n",
       "      <th>FRAUD</th>\n",
       "      <th>TOTAL_SPEND</th>\n",
       "      <th>DOCTOR_VISITS</th>\n",
       "      <th>NUM_CLAIMS</th>\n",
       "      <th>MEMBER_DURATION</th>\n",
       "      <th>OPTOM_PRESC</th>\n",
       "      <th>NUM_MEMBERS</th>\n",
       "    </tr>\n",
       "  </thead>\n",
       "  <tbody>\n",
       "    <tr>\n",
       "      <th>588</th>\n",
       "      <td>589</td>\n",
       "      <td>1</td>\n",
       "      <td>7500</td>\n",
       "      <td>15</td>\n",
       "      <td>3</td>\n",
       "      <td>127</td>\n",
       "      <td>2</td>\n",
       "      <td>2</td>\n",
       "    </tr>\n",
       "    <tr>\n",
       "      <th>2897</th>\n",
       "      <td>2898</td>\n",
       "      <td>1</td>\n",
       "      <td>16000</td>\n",
       "      <td>18</td>\n",
       "      <td>3</td>\n",
       "      <td>146</td>\n",
       "      <td>3</td>\n",
       "      <td>2</td>\n",
       "    </tr>\n",
       "    <tr>\n",
       "      <th>1199</th>\n",
       "      <td>1200</td>\n",
       "      <td>1</td>\n",
       "      <td>10000</td>\n",
       "      <td>16</td>\n",
       "      <td>3</td>\n",
       "      <td>124</td>\n",
       "      <td>2</td>\n",
       "      <td>1</td>\n",
       "    </tr>\n",
       "    <tr>\n",
       "      <th>1246</th>\n",
       "      <td>1247</td>\n",
       "      <td>1</td>\n",
       "      <td>10200</td>\n",
       "      <td>13</td>\n",
       "      <td>3</td>\n",
       "      <td>119</td>\n",
       "      <td>2</td>\n",
       "      <td>3</td>\n",
       "    </tr>\n",
       "    <tr>\n",
       "      <th>886</th>\n",
       "      <td>887</td>\n",
       "      <td>1</td>\n",
       "      <td>8900</td>\n",
       "      <td>22</td>\n",
       "      <td>3</td>\n",
       "      <td>166</td>\n",
       "      <td>1</td>\n",
       "      <td>2</td>\n",
       "    </tr>\n",
       "  </tbody>\n",
       "</table>\n",
       "</div>"
      ],
      "text/plain": [
       "      CASE_ID  FRAUD  TOTAL_SPEND  DOCTOR_VISITS  NUM_CLAIMS  MEMBER_DURATION  \\\n",
       "588       589      1         7500             15           3              127   \n",
       "2897     2898      1        16000             18           3              146   \n",
       "1199     1200      1        10000             16           3              124   \n",
       "1246     1247      1        10200             13           3              119   \n",
       "886       887      1         8900             22           3              166   \n",
       "\n",
       "      OPTOM_PRESC  NUM_MEMBERS  \n",
       "588             2            2  \n",
       "2897            3            2  \n",
       "1199            2            1  \n",
       "1246            2            3  \n",
       "886             1            2  "
      ]
     },
     "execution_count": 139,
     "metadata": {},
     "output_type": "execute_result"
    }
   ],
   "source": [
    "fraudulent_df = pd.read_csv(\"/kaggle/input/fraudknn/Fraud.csv\")\n",
    "fraudulent_df.iloc[neighs[0][0:]]"
   ]
  }
 ],
 "metadata": {
  "kernelspec": {
   "display_name": "Python 3",
   "language": "python",
   "name": "python3"
  },
  "language_info": {
   "codemirror_mode": {
    "name": "ipython",
    "version": 3
   },
   "file_extension": ".py",
   "mimetype": "text/x-python",
   "name": "python",
   "nbconvert_exporter": "python",
   "pygments_lexer": "ipython3",
   "version": "3.7.4"
  }
 },
 "nbformat": 4,
 "nbformat_minor": 1
}
